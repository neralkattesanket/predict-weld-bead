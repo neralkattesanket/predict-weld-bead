{
 "cells": [
  {
   "cell_type": "code",
   "execution_count": 1,
   "id": "minute-refund",
   "metadata": {},
   "outputs": [
    {
     "data": {
      "text/html": [
       "<div>\n",
       "<style scoped>\n",
       "    .dataframe tbody tr th:only-of-type {\n",
       "        vertical-align: middle;\n",
       "    }\n",
       "\n",
       "    .dataframe tbody tr th {\n",
       "        vertical-align: top;\n",
       "    }\n",
       "\n",
       "    .dataframe thead th {\n",
       "        text-align: right;\n",
       "    }\n",
       "</style>\n",
       "<table border=\"1\" class=\"dataframe\">\n",
       "  <thead>\n",
       "    <tr style=\"text-align: right;\">\n",
       "      <th></th>\n",
       "      <th>num</th>\n",
       "      <th>cputime_dif</th>\n",
       "      <th>depth</th>\n",
       "      <th>high</th>\n",
       "      <th>image</th>\n",
       "      <th>tension</th>\n",
       "      <th>time</th>\n",
       "      <th>velocity</th>\n",
       "      <th>volume</th>\n",
       "      <th>weld_velocity</th>\n",
       "      <th>width</th>\n",
       "      <th>wire_l</th>\n",
       "    </tr>\n",
       "  </thead>\n",
       "  <tbody>\n",
       "    <tr>\n",
       "      <th>0</th>\n",
       "      <td>0</td>\n",
       "      <td>0.109213</td>\n",
       "      <td>-2.612515</td>\n",
       "      <td>2.251549</td>\n",
       "      <td>4482.0</td>\n",
       "      <td>20.0</td>\n",
       "      <td>2.614</td>\n",
       "      <td>5.5</td>\n",
       "      <td>0.704238</td>\n",
       "      <td>8.0</td>\n",
       "      <td>4.850269</td>\n",
       "      <td>15.0</td>\n",
       "    </tr>\n",
       "    <tr>\n",
       "      <th>1</th>\n",
       "      <td>1</td>\n",
       "      <td>0.113643</td>\n",
       "      <td>-2.568461</td>\n",
       "      <td>2.261362</td>\n",
       "      <td>4497.0</td>\n",
       "      <td>20.0</td>\n",
       "      <td>2.629</td>\n",
       "      <td>5.5</td>\n",
       "      <td>0.093257</td>\n",
       "      <td>8.0</td>\n",
       "      <td>5.014591</td>\n",
       "      <td>15.0</td>\n",
       "    </tr>\n",
       "    <tr>\n",
       "      <th>2</th>\n",
       "      <td>2</td>\n",
       "      <td>0.187733</td>\n",
       "      <td>-2.284407</td>\n",
       "      <td>2.307767</td>\n",
       "      <td>5361.0</td>\n",
       "      <td>20.0</td>\n",
       "      <td>3.493</td>\n",
       "      <td>5.5</td>\n",
       "      <td>5.371661</td>\n",
       "      <td>8.0</td>\n",
       "      <td>6.496406</td>\n",
       "      <td>15.0</td>\n",
       "    </tr>\n",
       "    <tr>\n",
       "      <th>3</th>\n",
       "      <td>3</td>\n",
       "      <td>0.124918</td>\n",
       "      <td>-2.072830</td>\n",
       "      <td>2.291701</td>\n",
       "      <td>5433.0</td>\n",
       "      <td>20.0</td>\n",
       "      <td>3.565</td>\n",
       "      <td>5.5</td>\n",
       "      <td>0.447639</td>\n",
       "      <td>8.0</td>\n",
       "      <td>7.534782</td>\n",
       "      <td>15.0</td>\n",
       "    </tr>\n",
       "    <tr>\n",
       "      <th>4</th>\n",
       "      <td>4</td>\n",
       "      <td>0.110063</td>\n",
       "      <td>-2.497762</td>\n",
       "      <td>2.195335</td>\n",
       "      <td>6325.0</td>\n",
       "      <td>20.0</td>\n",
       "      <td>4.457</td>\n",
       "      <td>5.5</td>\n",
       "      <td>5.545741</td>\n",
       "      <td>8.0</td>\n",
       "      <td>7.738949</td>\n",
       "      <td>15.0</td>\n",
       "    </tr>\n",
       "  </tbody>\n",
       "</table>\n",
       "</div>"
      ],
      "text/plain": [
       "   num  cputime_dif     depth      high   image  tension   time  velocity  \\\n",
       "0    0     0.109213 -2.612515  2.251549  4482.0     20.0  2.614       5.5   \n",
       "1    1     0.113643 -2.568461  2.261362  4497.0     20.0  2.629       5.5   \n",
       "2    2     0.187733 -2.284407  2.307767  5361.0     20.0  3.493       5.5   \n",
       "3    3     0.124918 -2.072830  2.291701  5433.0     20.0  3.565       5.5   \n",
       "4    4     0.110063 -2.497762  2.195335  6325.0     20.0  4.457       5.5   \n",
       "\n",
       "     volume  weld_velocity     width  wire_l  \n",
       "0  0.704238            8.0  4.850269    15.0  \n",
       "1  0.093257            8.0  5.014591    15.0  \n",
       "2  5.371661            8.0  6.496406    15.0  \n",
       "3  0.447639            8.0  7.534782    15.0  \n",
       "4  5.545741            8.0  7.738949    15.0  "
      ]
     },
     "execution_count": 1,
     "metadata": {},
     "output_type": "execute_result"
    }
   ],
   "source": [
    "import pandas as pd \n",
    "import numpy as np\n",
    "\n",
    "import tensorflow as tf \n",
    "from tensorflow.keras import *\n",
    "from tensorflow.keras.layers import *\n",
    "\n",
    "df = pd.read_csv(\n",
    "    './aws_a5_1_all.csv'\n",
    ")\n",
    "\n",
    "df.head()"
   ]
  },
  {
   "cell_type": "code",
   "execution_count": 7,
   "id": "announced-decimal",
   "metadata": {},
   "outputs": [
    {
     "data": {
      "text/plain": [
       "array([[-2.61251488],\n",
       "       [-2.56846062],\n",
       "       [-2.28440721],\n",
       "       ...,\n",
       "       [-3.09060336],\n",
       "       [-3.09060336],\n",
       "       [-3.09058904]])"
      ]
     },
     "execution_count": 7,
     "metadata": {},
     "output_type": "execute_result"
    }
   ],
   "source": [
    "labels = np.array(df[['high' , 'tension' , 'velocity' , 'volume' , 'weld_velocity' , 'width' , 'wire_l']])\n",
    "features = np.array(df[['depth']])\n",
    "\n",
    "labels_mean = np.mean(labels , axis=0)\n",
    "labels_std = np.std(labels , axis = 0)\n",
    "\n",
    "features"
   ]
  },
  {
   "cell_type": "code",
   "execution_count": 8,
   "id": "complete-chinese",
   "metadata": {},
   "outputs": [
    {
     "name": "stdout",
     "output_type": "stream",
     "text": [
      "(<tf.Tensor: shape=(1,), dtype=float64, numpy=array([-2.61251488])>, <tf.Tensor: shape=(7,), dtype=float64, numpy=\n",
      "array([ 2.25154901, 20.        ,  5.5       ,  0.7042383 ,  8.        ,\n",
      "        4.85026926, 15.        ])>)\n",
      "(<tf.Tensor: shape=(1,), dtype=float64, numpy=array([-2.56846062])>, <tf.Tensor: shape=(7,), dtype=float64, numpy=\n",
      "array([ 2.26136213, 20.        ,  5.5       ,  0.09325717,  8.        ,\n",
      "        5.01459088, 15.        ])>)\n",
      "(<tf.Tensor: shape=(1,), dtype=float64, numpy=array([-2.28440721])>, <tf.Tensor: shape=(7,), dtype=float64, numpy=\n",
      "array([ 2.30776663, 20.        ,  5.5       ,  5.37166119,  8.        ,\n",
      "        6.49640607, 15.        ])>)\n"
     ]
    }
   ],
   "source": [
    "numeric_dataset = tf.data.Dataset.from_tensor_slices((features, labels))\n",
    "\n",
    "for row in numeric_dataset.take(3):\n",
    "    print(row)"
   ]
  },
  {
   "cell_type": "code",
   "execution_count": 9,
   "id": "decreased-flavor",
   "metadata": {},
   "outputs": [
    {
     "data": {
      "text/plain": [
       "array([-2.57594384])"
      ]
     },
     "execution_count": 9,
     "metadata": {},
     "output_type": "execute_result"
    }
   ],
   "source": [
    "mean = np.mean(features , axis=0)\n",
    "mean"
   ]
  },
  {
   "cell_type": "code",
   "execution_count": 12,
   "id": "pleased-chemical",
   "metadata": {},
   "outputs": [
    {
     "data": {
      "text/plain": [
       "array([0.64405404])"
      ]
     },
     "execution_count": 12,
     "metadata": {},
     "output_type": "execute_result"
    }
   ],
   "source": [
    "standard = np.std(features , axis= 0)\n",
    "standard"
   ]
  },
  {
   "cell_type": "code",
   "execution_count": 13,
   "id": "tender-front",
   "metadata": {},
   "outputs": [],
   "source": [
    "def normalize(data , label) :\n",
    "    return (data - mean) / standard , (label - labels_mean) / labels_std\n",
    "\n",
    "x_test = numeric_dataset.take(10)\n",
    "\n",
    "numeric_batches = numeric_dataset.shuffle(1000).batch(4)\n",
    "numeric_batches = numeric_batches.map(normalize)"
   ]
  },
  {
   "cell_type": "code",
   "execution_count": 31,
   "id": "virgin-sensitivity",
   "metadata": {},
   "outputs": [
    {
     "name": "stdout",
     "output_type": "stream",
     "text": [
      "Epoch 1/60\n",
      "WARNING:tensorflow:Layer dense_56 is casting an input tensor from dtype float64 to the layer's dtype of float32, which is new behavior in TensorFlow 2.  The layer has dtype float32 because its dtype defaults to floatx.\n",
      "\n",
      "If you intended to run this layer in float32, you can safely ignore this warning. If in doubt, this warning is likely only an issue if you are porting a TensorFlow 1.X model to TensorFlow 2.\n",
      "\n",
      "To change all layers to have dtype float64 by default, call `tf.keras.backend.set_floatx('float64')`. To change just this layer, pass dtype='float64' to the layer constructor. If you are the author of this layer, you can disable autocasting by passing autocast=False to the base Layer constructor.\n",
      "\n",
      "252/252 [==============================] - 3s 11ms/step - loss: 0.9298 - mean_squared_error: 0.9298\n",
      "Epoch 2/60\n",
      "252/252 [==============================] - 3s 11ms/step - loss: 0.8935 - mean_squared_error: 0.8935\n",
      "Epoch 3/60\n",
      "252/252 [==============================] - 3s 11ms/step - loss: 0.8704 - mean_squared_error: 0.8704\n",
      "Epoch 4/60\n",
      "252/252 [==============================] - 3s 11ms/step - loss: 0.8392 - mean_squared_error: 0.8392\n",
      "Epoch 5/60\n",
      "252/252 [==============================] - 3s 11ms/step - loss: 0.8172 - mean_squared_error: 0.8172 1s - l\n",
      "Epoch 6/60\n",
      "252/252 [==============================] - 2s 10ms/step - loss: 0.7849 - mean_squared_error: 0.7849\n",
      "Epoch 7/60\n",
      "252/252 [==============================] - 2s 10ms/step - loss: 0.7572 - mean_squared_error: 0.7572\n",
      "Epoch 8/60\n",
      "252/252 [==============================] - 3s 10ms/step - loss: 0.7405 - mean_squared_error: 0.7405\n",
      "Epoch 9/60\n",
      "252/252 [==============================] - 3s 11ms/step - loss: 0.7320 - mean_squared_error: 0.7320\n",
      "Epoch 10/60\n",
      "252/252 [==============================] - 3s 11ms/step - loss: 0.7290 - mean_squared_error: 0.7290\n",
      "Epoch 11/60\n",
      "252/252 [==============================] - 3s 11ms/step - loss: 0.7212 - mean_squared_error: 0.7212\n",
      "Epoch 12/60\n",
      "252/252 [==============================] - 3s 11ms/step - loss: 0.7155 - mean_squared_error: 0.7155\n",
      "Epoch 13/60\n",
      "252/252 [==============================] - 3s 10ms/step - loss: 0.7094 - mean_squared_error: 0.7094\n",
      "Epoch 14/60\n",
      "252/252 [==============================] - 3s 11ms/step - loss: 0.7031 - mean_squared_error: 0.7031\n",
      "Epoch 15/60\n",
      "252/252 [==============================] - 3s 11ms/step - loss: 0.7009 - mean_squared_error: 0.7009\n",
      "Epoch 16/60\n",
      "252/252 [==============================] - 3s 11ms/step - loss: 0.7033 - mean_squared_error: 0.7033\n",
      "Epoch 17/60\n",
      "252/252 [==============================] - 2s 10ms/step - loss: 0.6917 - mean_squared_error: 0.6917\n",
      "Epoch 18/60\n",
      "252/252 [==============================] - 3s 10ms/step - loss: 0.6920 - mean_squared_error: 0.6920\n",
      "Epoch 19/60\n",
      "252/252 [==============================] - 3s 11ms/step - loss: 0.6875 - mean_squared_error: 0.6875\n",
      "Epoch 20/60\n",
      "252/252 [==============================] - 3s 11ms/step - loss: 0.6861 - mean_squared_error: 0.6861\n",
      "Epoch 21/60\n",
      "252/252 [==============================] - 3s 11ms/step - loss: 0.6816 - mean_squared_error: 0.6816\n",
      "Epoch 22/60\n",
      "252/252 [==============================] - 3s 11ms/step - loss: 0.6830 - mean_squared_error: 0.6830\n",
      "Epoch 23/60\n",
      "252/252 [==============================] - 3s 11ms/step - loss: 0.6839 - mean_squared_error: 0.6839 1s -\n",
      "Epoch 24/60\n",
      "252/252 [==============================] - 3s 11ms/step - loss: 0.6765 - mean_squared_error: 0.6765\n",
      "Epoch 25/60\n",
      "252/252 [==============================] - 3s 11ms/step - loss: 0.6787 - mean_squared_error: 0.6787\n",
      "Epoch 26/60\n",
      "252/252 [==============================] - 3s 12ms/step - loss: 0.6766 - mean_squared_error: 0.6766\n",
      "Epoch 27/60\n",
      "252/252 [==============================] - 3s 11ms/step - loss: 0.6720 - mean_squared_error: 0.6720\n",
      "Epoch 28/60\n",
      "252/252 [==============================] - 3s 11ms/step - loss: 0.6752 - mean_squared_error: 0.6752\n",
      "Epoch 29/60\n",
      "252/252 [==============================] - 3s 11ms/step - loss: 0.6708 - mean_squared_error: 0.6708\n",
      "Epoch 30/60\n",
      "252/252 [==============================] - 3s 10ms/step - loss: 0.6705 - mean_squared_error: 0.6705\n",
      "Epoch 31/60\n",
      "252/252 [==============================] - 2s 10ms/step - loss: 0.6719 - mean_squared_error: 0.6719\n",
      "Epoch 32/60\n",
      "252/252 [==============================] - 2s 10ms/step - loss: 0.6651 - mean_squared_error: 0.6651\n",
      "Epoch 33/60\n",
      "252/252 [==============================] - 2s 9ms/step - loss: 0.6701 - mean_squared_error: 0.6701\n",
      "Epoch 34/60\n",
      "252/252 [==============================] - 2s 9ms/step - loss: 0.6637 - mean_squared_error: 0.6637\n",
      "Epoch 35/60\n",
      "252/252 [==============================] - 2s 10ms/step - loss: 0.6777 - mean_squared_error: 0.6777 0s - loss: 0.6660 - mean\n",
      "Epoch 36/60\n",
      "252/252 [==============================] - 3s 10ms/step - loss: 0.6648 - mean_squared_error: 0.6648\n",
      "Epoch 37/60\n",
      "252/252 [==============================] - 2s 10ms/step - loss: 0.6647 - mean_squared_error: 0.6647\n",
      "Epoch 38/60\n",
      "252/252 [==============================] - 3s 11ms/step - loss: 0.6605 - mean_squared_error: 0.6605\n",
      "Epoch 39/60\n",
      "252/252 [==============================] - 3s 10ms/step - loss: 0.6623 - mean_squared_error: 0.6623\n",
      "Epoch 40/60\n",
      "252/252 [==============================] - 3s 11ms/step - loss: 0.6635 - mean_squared_error: 0.6635\n",
      "Epoch 41/60\n",
      "252/252 [==============================] - 3s 11ms/step - loss: 0.6596 - mean_squared_error: 0.6596\n",
      "Epoch 42/60\n",
      "252/252 [==============================] - 3s 11ms/step - loss: 0.6595 - mean_squared_error: 0.6595\n",
      "Epoch 43/60\n",
      "252/252 [==============================] - 3s 11ms/step - loss: 0.6562 - mean_squared_error: 0.6562\n",
      "Epoch 44/60\n",
      "252/252 [==============================] - 3s 12ms/step - loss: 0.6642 - mean_squared_error: 0.6642 1s - loss: 0.6427 - mean_squared\n",
      "Epoch 45/60\n",
      "252/252 [==============================] - 3s 11ms/step - loss: 0.6562 - mean_squared_error: 0.6562 2s - loss: 0.6237 \n",
      "Epoch 46/60\n",
      "252/252 [==============================] - 3s 11ms/step - loss: 0.6609 - mean_squared_error: 0.6609\n",
      "Epoch 47/60\n",
      "252/252 [==============================] - 3s 11ms/step - loss: 0.6551 - mean_squared_error: 0.6551\n",
      "Epoch 48/60\n",
      "252/252 [==============================] - 2s 10ms/step - loss: 0.6565 - mean_squared_error: 0.6565\n",
      "Epoch 49/60\n",
      "252/252 [==============================] - 3s 10ms/step - loss: 0.6587 - mean_squared_error: 0.6587\n",
      "Epoch 50/60\n",
      "252/252 [==============================] - 2s 10ms/step - loss: 0.6548 - mean_squared_error: 0.6548\n",
      "Epoch 51/60\n",
      "252/252 [==============================] - 2s 9ms/step - loss: 0.6561 - mean_squared_error: 0.6561\n",
      "Epoch 52/60\n",
      "252/252 [==============================] - 2s 10ms/step - loss: 0.6566 - mean_squared_error: 0.6566\n",
      "Epoch 53/60\n",
      "252/252 [==============================] - 2s 10ms/step - loss: 0.6570 - mean_squared_error: 0.6570\n",
      "Epoch 54/60\n",
      "252/252 [==============================] - 2s 10ms/step - loss: 0.6521 - mean_squared_error: 0.6521\n",
      "Epoch 55/60\n",
      "252/252 [==============================] - 2s 9ms/step - loss: 0.6553 - mean_squared_error: 0.6553\n",
      "Epoch 56/60\n",
      "252/252 [==============================] - 3s 11ms/step - loss: 0.6558 - mean_squared_error: 0.6558\n",
      "Epoch 57/60\n",
      "252/252 [==============================] - 3s 10ms/step - loss: 0.6553 - mean_squared_error: 0.6553\n",
      "Epoch 58/60\n",
      "252/252 [==============================] - 3s 10ms/step - loss: 0.6556 - mean_squared_error: 0.6556\n",
      "Epoch 59/60\n",
      "252/252 [==============================] - 2s 10ms/step - loss: 0.6519 - mean_squared_error: 0.6519\n",
      "Epoch 60/60\n",
      "252/252 [==============================] - 2s 9ms/step - loss: 0.6537 - mean_squared_error: 0.6537\n"
     ]
    },
    {
     "data": {
      "text/plain": [
       "<tensorflow.python.keras.callbacks.History at 0x17917f16088>"
      ]
     },
     "execution_count": 31,
     "metadata": {},
     "output_type": "execute_result"
    }
   ],
   "source": [
    "def get_basic_model():\n",
    "  model = tf.keras.Sequential([\n",
    "    tf.keras.layers.Dense(20, activation='tanh'),\n",
    "      tf.keras.layers.Dense(20, activation='tanh'),\n",
    "    tf.keras.layers.Dense(15, activation='tanh'),\n",
    "      tf.keras.layers.Dense(10, activation='tanh'),\n",
    "      tf.keras.layers.Dense(10, activation='tanh'),\n",
    "    tf.keras.layers.Dense(7 , activation='tanh')\n",
    "  ])\n",
    "\n",
    "  model.compile(optimizer= optimizers.Adam() ,\n",
    "                loss= losses.mean_squared_error ,\n",
    "                metrics= [metrics.MeanSquaredError()])\n",
    "  return model\n",
    "\n",
    "model = get_basic_model()\n",
    "\n",
    "model.fit(numeric_batches , batch_size=4 , epochs=60)"
   ]
  },
  {
   "cell_type": "code",
   "execution_count": 26,
   "id": "careful-horror",
   "metadata": {},
   "outputs": [
    {
     "name": "stdout",
     "output_type": "stream",
     "text": [
      "[[-0.05678275]]\n"
     ]
    },
    {
     "data": {
      "text/plain": [
       "array([[ 1.80694465, 27.53100325,  7.25691962,  0.79824874, 11.18717043,\n",
       "         6.58996991, 13.33239386]])"
      ]
     },
     "execution_count": 26,
     "metadata": {},
     "output_type": "execute_result"
    }
   ],
   "source": [
    "test = (np.array([[-2.612515]]) - mean) / standard\n",
    "print(test)\n",
    "model.predict(test)*labels_std + labels_mean"
   ]
  },
  {
   "cell_type": "code",
   "execution_count": 27,
   "id": "plain-creation",
   "metadata": {},
   "outputs": [
    {
     "name": "stdout",
     "output_type": "stream",
     "text": [
      "INFO:tensorflow:Assets written to: ./my_model2\\assets\n"
     ]
    }
   ],
   "source": [
    "#important\n",
    "model.save('./my_model2')"
   ]
  },
  {
   "cell_type": "code",
   "execution_count": 28,
   "id": "signed-andorra",
   "metadata": {},
   "outputs": [
    {
     "name": "stdout",
     "output_type": "stream",
     "text": [
      "[[-0.05678275]]\n"
     ]
    },
    {
     "data": {
      "text/plain": [
       "array([[ 1.80694465, 27.53100325,  7.25691962,  0.79824874, 11.18717043,\n",
       "         6.58996991, 13.33239386]])"
      ]
     },
     "execution_count": 28,
     "metadata": {},
     "output_type": "execute_result"
    }
   ],
   "source": [
    "new_model = tf.keras.models.load_model('./my_model2')\n",
    "\n",
    "test = (np.array([[-2.612515]]) - mean) / standard\n",
    "print(test)\n",
    "model.predict(test)*labels_std + labels_mean"
   ]
  },
  {
   "cell_type": "code",
   "execution_count": 32,
   "id": "federal-halifax",
   "metadata": {},
   "outputs": [],
   "source": [
    "def predictinputparameters(depth) :\n",
    "    test = (np.array([[depth]]) - mean) / standard\n",
    "    res = new_model.predict(test)*labels_std + labels_mean\n",
    "    out = ['high' , 'tension' , 'velocity' , 'volume' , 'weld_velocity' , 'width' , 'wire_l']\n",
    "    \n",
    "    for i in range(7) :\n",
    "        print(out[i] , ':' , res[0][i])"
   ]
  },
  {
   "cell_type": "code",
   "execution_count": 34,
   "id": "meaningful-brush",
   "metadata": {},
   "outputs": [
    {
     "name": "stdout",
     "output_type": "stream",
     "text": [
      "high : 1.8069446527509592\n",
      "tension : 27.53100325009922\n",
      "velocity : 7.256919616576222\n",
      "volume : 0.7982487392350646\n",
      "weld_velocity : 11.187170428475717\n",
      "width : 6.589969905125473\n",
      "wire_l : 13.332393861007954\n"
     ]
    }
   ],
   "source": [
    "predictinputparameters(-2.612515)"
   ]
  },
  {
   "cell_type": "code",
   "execution_count": null,
   "id": "artificial-relationship",
   "metadata": {},
   "outputs": [],
   "source": []
  }
 ],
 "metadata": {
  "kernelspec": {
   "display_name": "Tensorflow",
   "language": "python",
   "name": "tensorflow"
  },
  "language_info": {
   "codemirror_mode": {
    "name": "ipython",
    "version": 3
   },
   "file_extension": ".py",
   "mimetype": "text/x-python",
   "name": "python",
   "nbconvert_exporter": "python",
   "pygments_lexer": "ipython3",
   "version": "3.7.10"
  }
 },
 "nbformat": 4,
 "nbformat_minor": 5
}
