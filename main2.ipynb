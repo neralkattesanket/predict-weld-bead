{
 "cells": [
  {
   "cell_type": "code",
   "execution_count": 1,
   "id": "respiratory-progressive",
   "metadata": {},
   "outputs": [
    {
     "data": {
      "text/html": [
       "<div>\n",
       "<style scoped>\n",
       "    .dataframe tbody tr th:only-of-type {\n",
       "        vertical-align: middle;\n",
       "    }\n",
       "\n",
       "    .dataframe tbody tr th {\n",
       "        vertical-align: top;\n",
       "    }\n",
       "\n",
       "    .dataframe thead th {\n",
       "        text-align: right;\n",
       "    }\n",
       "</style>\n",
       "<table border=\"1\" class=\"dataframe\">\n",
       "  <thead>\n",
       "    <tr style=\"text-align: right;\">\n",
       "      <th></th>\n",
       "      <th>num</th>\n",
       "      <th>cputime_dif</th>\n",
       "      <th>depth</th>\n",
       "      <th>high</th>\n",
       "      <th>image</th>\n",
       "      <th>tension</th>\n",
       "      <th>time</th>\n",
       "      <th>velocity</th>\n",
       "      <th>volume</th>\n",
       "      <th>weld_velocity</th>\n",
       "      <th>width</th>\n",
       "      <th>wire_l</th>\n",
       "    </tr>\n",
       "  </thead>\n",
       "  <tbody>\n",
       "    <tr>\n",
       "      <th>0</th>\n",
       "      <td>0</td>\n",
       "      <td>0.109213</td>\n",
       "      <td>-2.612515</td>\n",
       "      <td>2.251549</td>\n",
       "      <td>4482.0</td>\n",
       "      <td>20.0</td>\n",
       "      <td>2.614</td>\n",
       "      <td>5.5</td>\n",
       "      <td>0.704238</td>\n",
       "      <td>8.0</td>\n",
       "      <td>4.850269</td>\n",
       "      <td>15.0</td>\n",
       "    </tr>\n",
       "    <tr>\n",
       "      <th>1</th>\n",
       "      <td>1</td>\n",
       "      <td>0.113643</td>\n",
       "      <td>-2.568461</td>\n",
       "      <td>2.261362</td>\n",
       "      <td>4497.0</td>\n",
       "      <td>20.0</td>\n",
       "      <td>2.629</td>\n",
       "      <td>5.5</td>\n",
       "      <td>0.093257</td>\n",
       "      <td>8.0</td>\n",
       "      <td>5.014591</td>\n",
       "      <td>15.0</td>\n",
       "    </tr>\n",
       "    <tr>\n",
       "      <th>2</th>\n",
       "      <td>2</td>\n",
       "      <td>0.187733</td>\n",
       "      <td>-2.284407</td>\n",
       "      <td>2.307767</td>\n",
       "      <td>5361.0</td>\n",
       "      <td>20.0</td>\n",
       "      <td>3.493</td>\n",
       "      <td>5.5</td>\n",
       "      <td>5.371661</td>\n",
       "      <td>8.0</td>\n",
       "      <td>6.496406</td>\n",
       "      <td>15.0</td>\n",
       "    </tr>\n",
       "    <tr>\n",
       "      <th>3</th>\n",
       "      <td>3</td>\n",
       "      <td>0.124918</td>\n",
       "      <td>-2.072830</td>\n",
       "      <td>2.291701</td>\n",
       "      <td>5433.0</td>\n",
       "      <td>20.0</td>\n",
       "      <td>3.565</td>\n",
       "      <td>5.5</td>\n",
       "      <td>0.447639</td>\n",
       "      <td>8.0</td>\n",
       "      <td>7.534782</td>\n",
       "      <td>15.0</td>\n",
       "    </tr>\n",
       "    <tr>\n",
       "      <th>4</th>\n",
       "      <td>4</td>\n",
       "      <td>0.110063</td>\n",
       "      <td>-2.497762</td>\n",
       "      <td>2.195335</td>\n",
       "      <td>6325.0</td>\n",
       "      <td>20.0</td>\n",
       "      <td>4.457</td>\n",
       "      <td>5.5</td>\n",
       "      <td>5.545741</td>\n",
       "      <td>8.0</td>\n",
       "      <td>7.738949</td>\n",
       "      <td>15.0</td>\n",
       "    </tr>\n",
       "  </tbody>\n",
       "</table>\n",
       "</div>"
      ],
      "text/plain": [
       "   num  cputime_dif     depth      high   image  tension   time  velocity  \\\n",
       "0    0     0.109213 -2.612515  2.251549  4482.0     20.0  2.614       5.5   \n",
       "1    1     0.113643 -2.568461  2.261362  4497.0     20.0  2.629       5.5   \n",
       "2    2     0.187733 -2.284407  2.307767  5361.0     20.0  3.493       5.5   \n",
       "3    3     0.124918 -2.072830  2.291701  5433.0     20.0  3.565       5.5   \n",
       "4    4     0.110063 -2.497762  2.195335  6325.0     20.0  4.457       5.5   \n",
       "\n",
       "     volume  weld_velocity     width  wire_l  \n",
       "0  0.704238            8.0  4.850269    15.0  \n",
       "1  0.093257            8.0  5.014591    15.0  \n",
       "2  5.371661            8.0  6.496406    15.0  \n",
       "3  0.447639            8.0  7.534782    15.0  \n",
       "4  5.545741            8.0  7.738949    15.0  "
      ]
     },
     "execution_count": 1,
     "metadata": {},
     "output_type": "execute_result"
    }
   ],
   "source": [
    "import pandas as pd \n",
    "import numpy as np\n",
    "\n",
    "import tensorflow as tf \n",
    "from tensorflow.keras import *\n",
    "from tensorflow.keras.layers import *\n",
    "\n",
    "df = pd.read_csv(\n",
    "    './aws_a5_1_all.csv'\n",
    ")\n",
    "\n",
    "df.head()"
   ]
  },
  {
   "cell_type": "code",
   "execution_count": 7,
   "id": "ruled-hepatitis",
   "metadata": {},
   "outputs": [
    {
     "data": {
      "text/plain": [
       "array([[-2.61251488],\n",
       "       [-2.56846062],\n",
       "       [-2.28440721],\n",
       "       ...,\n",
       "       [-3.09060336],\n",
       "       [-3.09060336],\n",
       "       [-3.09058904]])"
      ]
     },
     "execution_count": 7,
     "metadata": {},
     "output_type": "execute_result"
    }
   ],
   "source": [
    "labels = np.array(df[['high' , 'tension' , 'velocity' , 'volume' , 'weld_velocity' , 'width' , 'wire_l']])\n",
    "features = np.array(df[['depth']])\n",
    "\n",
    "labels_mean = np.mean(labels , axis=0)\n",
    "labels_std = np.std(labels , axis = 0)\n",
    "\n",
    "features"
   ]
  },
  {
   "cell_type": "code",
   "execution_count": 8,
   "id": "hourly-election",
   "metadata": {},
   "outputs": [
    {
     "name": "stdout",
     "output_type": "stream",
     "text": [
      "(<tf.Tensor: shape=(1,), dtype=float64, numpy=array([-2.61251488])>, <tf.Tensor: shape=(7,), dtype=float64, numpy=\n",
      "array([ 2.25154901, 20.        ,  5.5       ,  0.7042383 ,  8.        ,\n",
      "        4.85026926, 15.        ])>)\n",
      "(<tf.Tensor: shape=(1,), dtype=float64, numpy=array([-2.56846062])>, <tf.Tensor: shape=(7,), dtype=float64, numpy=\n",
      "array([ 2.26136213, 20.        ,  5.5       ,  0.09325717,  8.        ,\n",
      "        5.01459088, 15.        ])>)\n",
      "(<tf.Tensor: shape=(1,), dtype=float64, numpy=array([-2.28440721])>, <tf.Tensor: shape=(7,), dtype=float64, numpy=\n",
      "array([ 2.30776663, 20.        ,  5.5       ,  5.37166119,  8.        ,\n",
      "        6.49640607, 15.        ])>)\n"
     ]
    }
   ],
   "source": [
    "numeric_dataset = tf.data.Dataset.from_tensor_slices((features, labels))\n",
    "\n",
    "for row in numeric_dataset.take(3):\n",
    "    print(row)"
   ]
  },
  {
   "cell_type": "code",
   "execution_count": 9,
   "id": "natural-engineering",
   "metadata": {},
   "outputs": [
    {
     "data": {
      "text/plain": [
       "array([-2.57594384])"
      ]
     },
     "execution_count": 9,
     "metadata": {},
     "output_type": "execute_result"
    }
   ],
   "source": [
    "mean = np.mean(features , axis=0)\n",
    "mean"
   ]
  },
  {
   "cell_type": "code",
   "execution_count": 12,
   "id": "adolescent-ceremony",
   "metadata": {},
   "outputs": [
    {
     "data": {
      "text/plain": [
       "array([0.64405404])"
      ]
     },
     "execution_count": 12,
     "metadata": {},
     "output_type": "execute_result"
    }
   ],
   "source": [
    "standard = np.std(features , axis= 0)\n",
    "standard"
   ]
  },
  {
   "cell_type": "code",
   "execution_count": 13,
   "id": "deadly-rider",
   "metadata": {},
   "outputs": [],
   "source": [
    "def normalize(data , label) :\n",
    "    return (data - mean) / standard , (label - labels_mean) / labels_std\n",
    "\n",
    "x_test = numeric_dataset.take(10)\n",
    "\n",
    "numeric_batches = numeric_dataset.shuffle(1000).batch(4)\n",
    "numeric_batches = numeric_batches.map(normalize)"
   ]
  },
  {
   "cell_type": "code",
   "execution_count": null,
   "id": "large-grant",
   "metadata": {},
   "outputs": [
    {
     "name": "stdout",
     "output_type": "stream",
     "text": [
      "Epoch 1/30\n",
      "WARNING:tensorflow:Layer dense_50 is casting an input tensor from dtype float64 to the layer's dtype of float32, which is new behavior in TensorFlow 2.  The layer has dtype float32 because its dtype defaults to floatx.\n",
      "\n",
      "If you intended to run this layer in float32, you can safely ignore this warning. If in doubt, this warning is likely only an issue if you are porting a TensorFlow 1.X model to TensorFlow 2.\n",
      "\n",
      "To change all layers to have dtype float64 by default, call `tf.keras.backend.set_floatx('float64')`. To change just this layer, pass dtype='float64' to the layer constructor. If you are the author of this layer, you can disable autocasting by passing autocast=False to the base Layer constructor.\n",
      "\n",
      "252/252 [==============================] - 3s 12ms/step - loss: 0.9099 - mean_squared_error: 0.9099\n",
      "Epoch 2/30\n",
      "252/252 [==============================] - 3s 12ms/step - loss: 0.8930 - mean_squared_error: 0.8930\n",
      "Epoch 3/30\n",
      "252/252 [==============================] - 3s 11ms/step - loss: 0.8801 - mean_squared_error: 0.8801\n",
      "Epoch 4/30\n",
      "252/252 [==============================] - 3s 11ms/step - loss: 0.8596 - mean_squared_error: 0.8596\n",
      "Epoch 5/30\n",
      "252/252 [==============================] - 3s 12ms/step - loss: 0.8456 - mean_squared_error: 0.8456\n",
      "Epoch 6/30\n",
      "252/252 [==============================] - 3s 11ms/step - loss: 0.8334 - mean_squared_error: 0.8334\n",
      "Epoch 7/30\n",
      "252/252 [==============================] - 3s 11ms/step - loss: 0.7970 - mean_squared_error: 0.7970\n",
      "Epoch 8/30\n",
      "252/252 [==============================] - 3s 11ms/step - loss: 0.7561 - mean_squared_error: 0.7561\n",
      "Epoch 9/30\n",
      "252/252 [==============================] - 3s 11ms/step - loss: 0.7456 - mean_squared_error: 0.7456\n",
      "Epoch 10/30\n",
      "252/252 [==============================] - 3s 10ms/step - loss: 0.7318 - mean_squared_error: 0.7318\n",
      "Epoch 11/30\n",
      "252/252 [==============================] - 3s 11ms/step - loss: 0.7311 - mean_squared_error: 0.7311\n",
      "Epoch 12/30\n",
      "252/252 [==============================] - 3s 12ms/step - loss: 0.7241 - mean_squared_error: 0.7241\n",
      "Epoch 13/30\n",
      "252/252 [==============================] - 3s 12ms/step - loss: 0.7194 - mean_squared_error: 0.7194\n",
      "Epoch 14/30\n",
      "252/252 [==============================] - 3s 12ms/step - loss: 0.7150 - mean_squared_error: 0.7150\n",
      "Epoch 15/30\n",
      "252/252 [==============================] - 3s 11ms/step - loss: 0.7150 - mean_squared_error: 0.7150\n",
      "Epoch 16/30\n",
      "252/252 [==============================] - 3s 11ms/step - loss: 0.7105 - mean_squared_error: 0.7105\n",
      "Epoch 17/30\n",
      "252/252 [==============================] - ETA: 0s - loss: 0.7081 - mean_squared_error: 0.70 - 3s 11ms/step - loss: 0.7083 - mean_squared_error: 0.7083\n",
      "Epoch 18/30\n",
      "252/252 [==============================] - 3s 11ms/step - loss: 0.7059 - mean_squared_error: 0.7059\n",
      "Epoch 19/30\n",
      "252/252 [==============================] - 3s 11ms/step - loss: 0.7026 - mean_squared_error: 0.7026 0s - loss: 0.7005 \n",
      "Epoch 20/30\n",
      "252/252 [==============================] - 3s 12ms/step - loss: 0.7037 - mean_squared_error: 0.7037\n",
      "Epoch 21/30\n",
      "252/252 [==============================] - 3s 11ms/step - loss: 0.6987 - mean_squared_error: 0.6987\n",
      "Epoch 22/30\n",
      "252/252 [==============================] - 3s 12ms/step - loss: 0.6940 - mean_squared_error: 0.6940\n",
      "Epoch 23/30\n",
      "252/252 [==============================] - 3s 12ms/step - loss: 0.6956 - mean_squared_error: 0.6956\n",
      "Epoch 24/30\n",
      "252/252 [==============================] - 3s 12ms/step - loss: 0.6900 - mean_squared_error: 0.6900\n",
      "Epoch 25/30\n",
      "252/252 [==============================] - 3s 12ms/step - loss: 0.6891 - mean_squared_error: 0.6891\n",
      "Epoch 26/30\n",
      "252/252 [==============================] - 3s 11ms/step - loss: 0.6875 - mean_squared_error: 0.6875\n",
      "Epoch 27/30\n",
      "252/252 [==============================] - 3s 11ms/step - loss: 0.6865 - mean_squared_error: 0.6865\n",
      "Epoch 28/30\n",
      "252/252 [==============================] - 3s 11ms/step - loss: 0.6827 - mean_squared_error: 0.6827\n",
      "Epoch 29/30\n",
      " 85/252 [=========>....................] - ETA: 1s - loss: 0.7590 - mean_squared_error: 0.7590 ETA: 2s - loss: 0.7400 "
     ]
    }
   ],
   "source": [
    "def get_basic_model():\n",
    "  model = tf.keras.Sequential([\n",
    "    tf.keras.layers.Dense(20, activation='tanh'),\n",
    "      tf.keras.layers.Dense(20, activation='tanh'),\n",
    "    tf.keras.layers.Dense(15, activation='tanh'),\n",
    "      tf.keras.layers.Dense(10, activation='tanh'),\n",
    "      tf.keras.layers.Dense(10, activation='tanh'),\n",
    "    tf.keras.layers.Dense(7 , activation='tanh')\n",
    "  ])\n",
    "\n",
    "  model.compile(optimizer= optimizers.Adam() ,\n",
    "                loss= losses.mean_squared_error ,\n",
    "                metrics= [metrics.MeanSquaredError()])\n",
    "  return model\n",
    "\n",
    "model = get_basic_model()\n",
    "\n",
    "model.fit(numeric_batches , batch_size=4 , epochs=30)"
   ]
  },
  {
   "cell_type": "code",
   "execution_count": 26,
   "id": "subjective-square",
   "metadata": {},
   "outputs": [
    {
     "name": "stdout",
     "output_type": "stream",
     "text": [
      "[[-0.05678275]]\n"
     ]
    },
    {
     "data": {
      "text/plain": [
       "array([[ 1.80694465, 27.53100325,  7.25691962,  0.79824874, 11.18717043,\n",
       "         6.58996991, 13.33239386]])"
      ]
     },
     "execution_count": 26,
     "metadata": {},
     "output_type": "execute_result"
    }
   ],
   "source": [
    "test = (np.array([[-2.612515]]) - mean) / standard\n",
    "print(test)\n",
    "model.predict(test)*labels_std + labels_mean"
   ]
  },
  {
   "cell_type": "code",
   "execution_count": 27,
   "id": "compact-scholar",
   "metadata": {},
   "outputs": [
    {
     "name": "stdout",
     "output_type": "stream",
     "text": [
      "INFO:tensorflow:Assets written to: ./my_model2\\assets\n"
     ]
    }
   ],
   "source": [
    "#important\n",
    "model.save('./my_model2')"
   ]
  },
  {
   "cell_type": "code",
   "execution_count": 28,
   "id": "african-lucas",
   "metadata": {},
   "outputs": [
    {
     "name": "stdout",
     "output_type": "stream",
     "text": [
      "[[-0.05678275]]\n"
     ]
    },
    {
     "data": {
      "text/plain": [
       "array([[ 1.80694465, 27.53100325,  7.25691962,  0.79824874, 11.18717043,\n",
       "         6.58996991, 13.33239386]])"
      ]
     },
     "execution_count": 28,
     "metadata": {},
     "output_type": "execute_result"
    }
   ],
   "source": [
    "new_model = tf.keras.models.load_model('./my_model2')\n",
    "\n",
    "test = (np.array([[-2.612515]]) - mean) / standard\n",
    "print(test)\n",
    "model.predict(test)*labels_std + labels_mean"
   ]
  },
  {
   "cell_type": "code",
   "execution_count": null,
   "id": "manual-somewhere",
   "metadata": {},
   "outputs": [],
   "source": []
  }
 ],
 "metadata": {
  "kernelspec": {
   "display_name": "Tensorflow",
   "language": "python",
   "name": "tensorflow"
  },
  "language_info": {
   "codemirror_mode": {
    "name": "ipython",
    "version": 3
   },
   "file_extension": ".py",
   "mimetype": "text/x-python",
   "name": "python",
   "nbconvert_exporter": "python",
   "pygments_lexer": "ipython3",
   "version": "3.7.10"
  }
 },
 "nbformat": 4,
 "nbformat_minor": 5
}
